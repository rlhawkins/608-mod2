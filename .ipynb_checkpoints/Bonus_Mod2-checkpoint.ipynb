{
 "cells": [
  {
   "cell_type": "markdown",
   "id": "639cf9e4-edbb-4854-9b79-2a37b5dd9e6d",
   "metadata": {},
   "source": [
    "Generate random list of 100 integers"
   ]
  },
  {
   "cell_type": "code",
   "execution_count": 23,
   "id": "5a971361-e3c5-4e0e-a7e9-0ee69cff87dc",
   "metadata": {},
   "outputs": [],
   "source": [
    "import random"
   ]
  },
  {
   "cell_type": "code",
   "execution_count": 24,
   "id": "d0570016-3e92-4a24-80cc-424dc42108aa",
   "metadata": {},
   "outputs": [],
   "source": [
    "randomlist = []"
   ]
  },
  {
   "cell_type": "code",
   "execution_count": 25,
   "id": "88a8f483-e5e6-429c-9535-b5c45e8ab157",
   "metadata": {},
   "outputs": [],
   "source": [
    "for i in range(0,100):\n",
    "    n = random.randint(1,200)\n",
    "    randomlist.append(n)"
   ]
  },
  {
   "cell_type": "code",
   "execution_count": 26,
   "id": "c98e532f-9375-4a6f-959b-ec9dbd32e0c4",
   "metadata": {},
   "outputs": [
    {
     "name": "stdout",
     "output_type": "stream",
     "text": [
      "[16, 153, 153, 101, 169, 44, 67, 49, 102, 107, 109, 200, 47, 16, 133, 133, 102, 42, 59, 75, 128, 198, 52, 66, 92, 75, 126, 36, 93, 75, 18, 148, 31, 75, 55, 98, 195, 77, 90, 80, 92, 198, 174, 148, 8, 55, 174, 127, 163, 19, 152, 180, 100, 182, 190, 84, 5, 122, 61, 58, 63, 159, 26, 95, 40, 28, 31, 65, 157, 178, 146, 166, 53, 11, 116, 120, 189, 45, 88, 115, 82, 27, 57, 96, 197, 40, 69, 2, 166, 183, 33, 149, 45, 5, 141, 150, 146, 45, 63, 195]\n"
     ]
    }
   ],
   "source": [
    "print (randomlist)"
   ]
  },
  {
   "cell_type": "code",
   "execution_count": 27,
   "id": "8bc98b61-2148-4132-b1f6-9fe0efb6c2ab",
   "metadata": {},
   "outputs": [
    {
     "name": "stdout",
     "output_type": "stream",
     "text": [
      "Count of numbers in list equals 100\n"
     ]
    }
   ],
   "source": [
    "print (\"Count of numbers in list equals\", len(randomlist))"
   ]
  },
  {
   "cell_type": "code",
   "execution_count": 28,
   "id": "934bb21d-2884-4c3a-aa60-1be2f905a9d5",
   "metadata": {},
   "outputs": [
    {
     "name": "stdout",
     "output_type": "stream",
     "text": [
      "Sum of number in this list equals 9759\n"
     ]
    }
   ],
   "source": [
    "print (\"Sum of number in this list equals\", sum(randomlist))"
   ]
  },
  {
   "cell_type": "code",
   "execution_count": 29,
   "id": "498471eb-a3d1-428b-9ef6-0b356f7eca7a",
   "metadata": {},
   "outputs": [],
   "source": [
    "import statistics"
   ]
  },
  {
   "cell_type": "code",
   "execution_count": 30,
   "id": "6b391e14-ab57-4069-87a2-558f3d403a20",
   "metadata": {},
   "outputs": [
    {
     "data": {
      "text/plain": [
       "97.59"
      ]
     },
     "execution_count": 30,
     "metadata": {},
     "output_type": "execute_result"
    }
   ],
   "source": [
    "statistics.mean(randomlist)"
   ]
  },
  {
   "cell_type": "code",
   "execution_count": 31,
   "id": "11d6d74e-46da-4ead-9e73-f69a3a0b27dc",
   "metadata": {},
   "outputs": [
    {
     "data": {
      "text/plain": [
       "92.0"
      ]
     },
     "execution_count": 31,
     "metadata": {},
     "output_type": "execute_result"
    }
   ],
   "source": [
    "statistics.median(randomlist)"
   ]
  },
  {
   "cell_type": "code",
   "execution_count": 32,
   "id": "7ed7d7a3-e3c2-4400-a428-2d69268b5b94",
   "metadata": {},
   "outputs": [
    {
     "data": {
      "text/plain": [
       "75"
      ]
     },
     "execution_count": 32,
     "metadata": {},
     "output_type": "execute_result"
    }
   ],
   "source": [
    "statistics.mode(randomlist)"
   ]
  },
  {
   "cell_type": "markdown",
   "id": "c41af36c-2ef8-4b99-8348-a3245f093559",
   "metadata": {},
   "source": [
    "Renee Hawkins"
   ]
  }
 ],
 "metadata": {
  "kernelspec": {
   "display_name": "Python 3 (ipykernel)",
   "language": "python",
   "name": "python3"
  },
  "language_info": {
   "codemirror_mode": {
    "name": "ipython",
    "version": 3
   },
   "file_extension": ".py",
   "mimetype": "text/x-python",
   "name": "python",
   "nbconvert_exporter": "python",
   "pygments_lexer": "ipython3",
   "version": "3.9.7"
  }
 },
 "nbformat": 4,
 "nbformat_minor": 5
}
