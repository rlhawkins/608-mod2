{
 "cells": [
  {
   "cell_type": "markdown",
   "id": "67ea8755-6aa1-4a35-b8e8-de828c57d663",
   "metadata": {},
   "source": [
    "3.3 Self Check"
   ]
  },
  {
   "cell_type": "code",
   "execution_count": 1,
   "id": "e9223d22-ea16-42f6-bdd3-bab70e28fda1",
   "metadata": {},
   "outputs": [
    {
     "name": "stdin",
     "output_type": "stream",
     "text": [
      "Enter the first integer:  7\n"
     ]
    }
   ],
   "source": [
    "number1 = int(input('Enter the first integer: '))"
   ]
  },
  {
   "cell_type": "code",
   "execution_count": 9,
   "id": "c873d9d9-fe2a-4b87-9085-522eceab852d",
   "metadata": {},
   "outputs": [
    {
     "name": "stdin",
     "output_type": "stream",
     "text": [
      "Enter the second integer:  7\n"
     ]
    }
   ],
   "source": [
    "number2 = int(input('Enter the second integer: '))"
   ]
  },
  {
   "cell_type": "code",
   "execution_count": 10,
   "id": "f596bb45-1165-400a-8665-ab4073acc47e",
   "metadata": {},
   "outputs": [],
   "source": [
    "total = number1+number2"
   ]
  },
  {
   "cell_type": "code",
   "execution_count": 11,
   "id": "c7027476-7a6c-45d4-a879-f3c8cb231016",
   "metadata": {},
   "outputs": [
    {
     "name": "stdout",
     "output_type": "stream",
     "text": [
      "The sum of 7 and 7 is 14\n"
     ]
    }
   ],
   "source": [
    "print('The sum of', number1, 'and', number2, 'is', total)"
   ]
  },
  {
   "cell_type": "markdown",
   "id": "c74bf98a-e217-41a8-95d8-3a25e02c3f76",
   "metadata": {},
   "source": [
    "3.5 Self Check"
   ]
  },
  {
   "cell_type": "code",
   "execution_count": 12,
   "id": "98bd162d-ac27-498d-8648-0d7c0be05c0c",
   "metadata": {},
   "outputs": [],
   "source": [
    "grade = 55"
   ]
  },
  {
   "cell_type": "code",
   "execution_count": 13,
   "id": "e753f66f-6a6c-45d2-81df-623d88f5f72a",
   "metadata": {},
   "outputs": [],
   "source": [
    "if grade >= 60:\n",
    "    print('Passed')"
   ]
  },
  {
   "cell_type": "markdown",
   "id": "7497b9a2-3377-467f-a74a-e12a65a5f658",
   "metadata": {},
   "source": [
    "Remember that the 2nd 1/2 of if statement does NOT go in new cell!"
   ]
  },
  {
   "cell_type": "markdown",
   "id": "7a97bd49-3b2c-436e-a197-210fa7d3fd02",
   "metadata": {},
   "source": [
    "3.6 Self Check"
   ]
  },
  {
   "cell_type": "code",
   "execution_count": 14,
   "id": "e8a50af3-d160-44ca-bae6-b68d7e6ecf0b",
   "metadata": {},
   "outputs": [],
   "source": [
    "# grade = 60"
   ]
  },
  {
   "cell_type": "code",
   "execution_count": 15,
   "id": "1f0f7d33-a489-4c92-b517-54e44dc3fe52",
   "metadata": {},
   "outputs": [
    {
     "ename": "IndentationError",
     "evalue": "unexpected indent (Temp/ipykernel_21712/1854489990.py, line 2)",
     "output_type": "error",
     "traceback": [
      "\u001b[1;36m  File \u001b[1;32m\"C:\\Users\\renee\\AppData\\Local\\Temp/ipykernel_21712/1854489990.py\"\u001b[1;36m, line \u001b[1;32m2\u001b[0m\n\u001b[1;33m    print ('A')\u001b[0m\n\u001b[1;37m    ^\u001b[0m\n\u001b[1;31mIndentationError\u001b[0m\u001b[1;31m:\u001b[0m unexpected indent\n"
     ]
    }
   ],
   "source": [
    "#if grade >= 90:\n",
    "    print ('A')\n",
    "else:\n",
    "    print ('B')\n",
    "elif grade >= 80"
   ]
  },
  {
   "cell_type": "markdown",
   "id": "643fe534-4d5b-457b-9078-cdf4eca24895",
   "metadata": {},
   "source": [
    "We could correct as below"
   ]
  },
  {
   "cell_type": "code",
   "execution_count": 16,
   "id": "a8dcb436-a805-4046-a45f-93d5d7f8b624",
   "metadata": {},
   "outputs": [],
   "source": [
    "grade = 60"
   ]
  },
  {
   "cell_type": "code",
   "execution_count": 17,
   "id": "a242820f-1a60-4929-9b38-d180736d7b81",
   "metadata": {},
   "outputs": [
    {
     "name": "stdout",
     "output_type": "stream",
     "text": [
      "Neither A or B\n"
     ]
    }
   ],
   "source": [
    "if grade >= 90:\n",
    "    print ('A')\n",
    "elif grade >= 80:\n",
    "    print ('A or B')\n",
    "else:\n",
    "    print ('Neither A or B')\n",
    "    "
   ]
  },
  {
   "cell_type": "markdown",
   "id": "01585459-fc93-4b0b-8a87-2057325cad1e",
   "metadata": {},
   "source": [
    "3.7 Self Check"
   ]
  },
  {
   "cell_type": "code",
   "execution_count": 18,
   "id": "263dcd58-820c-46b0-a033-b12f815ae8c7",
   "metadata": {},
   "outputs": [],
   "source": [
    "product = 7"
   ]
  },
  {
   "cell_type": "code",
   "execution_count": 19,
   "id": "49f95471-aec3-4e0b-9480-1c01f34cba4f",
   "metadata": {},
   "outputs": [],
   "source": [
    "while product <=1000:\n",
    "    product = product*7"
   ]
  },
  {
   "cell_type": "code",
   "execution_count": 20,
   "id": "135d85c8-8506-4c2b-9f57-fecfa586bbe4",
   "metadata": {},
   "outputs": [
    {
     "data": {
      "text/plain": [
       "2401"
      ]
     },
     "execution_count": 20,
     "metadata": {},
     "output_type": "execute_result"
    }
   ],
   "source": [
    "product"
   ]
  },
  {
   "cell_type": "markdown",
   "id": "515a9f95-9ead-4903-bd5f-2e9c2c1e4136",
   "metadata": {},
   "source": [
    "3.8 Self Check"
   ]
  },
  {
   "cell_type": "code",
   "execution_count": 21,
   "id": "733758de-54c7-47ae-acfc-80531744c268",
   "metadata": {},
   "outputs": [],
   "source": [
    "total = 0"
   ]
  },
  {
   "cell_type": "code",
   "execution_count": 22,
   "id": "7a039828-43d2-437f-9e4a-505bea69aa0d",
   "metadata": {},
   "outputs": [],
   "source": [
    "for number in range(1000001):\n",
    "    total=total+number"
   ]
  },
  {
   "cell_type": "code",
   "execution_count": 23,
   "id": "24cc8b8a-1edf-4d88-8d0c-62a4311f9ed2",
   "metadata": {},
   "outputs": [
    {
     "data": {
      "text/plain": [
       "500000500000"
      ]
     },
     "execution_count": 23,
     "metadata": {},
     "output_type": "execute_result"
    }
   ],
   "source": [
    "total"
   ]
  },
  {
   "cell_type": "markdown",
   "id": "7f326d7b-55d7-4a21-aff4-0de5dcd0e145",
   "metadata": {},
   "source": [
    "3.9 Self Check"
   ]
  },
  {
   "cell_type": "code",
   "execution_count": 24,
   "id": "761d0faa-7ef3-41d0-8184-0f1e176385c5",
   "metadata": {},
   "outputs": [],
   "source": [
    "x = 12"
   ]
  },
  {
   "cell_type": "code",
   "execution_count": 25,
   "id": "321eec6e-1cc7-497e-aabf-f78f638b4a0d",
   "metadata": {},
   "outputs": [],
   "source": [
    "x **= 2"
   ]
  },
  {
   "cell_type": "code",
   "execution_count": 26,
   "id": "bb27a899-1caf-4d5d-9577-c3d97a64c940",
   "metadata": {},
   "outputs": [
    {
     "data": {
      "text/plain": [
       "144"
      ]
     },
     "execution_count": 26,
     "metadata": {},
     "output_type": "execute_result"
    }
   ],
   "source": [
    "x"
   ]
  },
  {
   "cell_type": "markdown",
   "id": "38952071-2fcd-4e1d-835a-8adeb908c3b4",
   "metadata": {},
   "source": [
    "Sequence Controlled Repetition"
   ]
  },
  {
   "cell_type": "code",
   "execution_count": 27,
   "id": "1e561004-e09f-4868-9f84-bb75031c7a8f",
   "metadata": {},
   "outputs": [],
   "source": [
    "total = 0"
   ]
  },
  {
   "cell_type": "code",
   "execution_count": 28,
   "id": "8a97979a-58f8-4836-89ce-917609218d9a",
   "metadata": {},
   "outputs": [],
   "source": [
    "grade_counter = 0"
   ]
  },
  {
   "cell_type": "code",
   "execution_count": 29,
   "id": "8789f71b-e836-4409-86d5-73331434e30b",
   "metadata": {},
   "outputs": [],
   "source": [
    "grades = [98,76,71,87,83,90,57,79,82,94]"
   ]
  },
  {
   "cell_type": "markdown",
   "id": "fd5589c5-9878-46e2-98da-772b15644f08",
   "metadata": {},
   "source": [
    "# Processing Phase"
   ]
  },
  {
   "cell_type": "code",
   "execution_count": 30,
   "id": "39e71c57-cc01-4ecf-873d-11eeaaafce99",
   "metadata": {},
   "outputs": [],
   "source": [
    "for grade in grades:\n",
    "    total += grade\n",
    "    grade_counter +=1"
   ]
  },
  {
   "cell_type": "markdown",
   "id": "fb104e6a-137a-447b-b92f-d66ddc58ed68",
   "metadata": {},
   "source": [
    "# Termination Phase"
   ]
  },
  {
   "cell_type": "code",
   "execution_count": 31,
   "id": "18292f8e-700d-4184-b172-c31200df80bb",
   "metadata": {},
   "outputs": [],
   "source": [
    "average = total / grade_counter"
   ]
  },
  {
   "cell_type": "code",
   "execution_count": 32,
   "id": "a981d830-bd52-4b26-be6c-f1cc53b8769b",
   "metadata": {},
   "outputs": [
    {
     "name": "stdout",
     "output_type": "stream",
     "text": [
      "Class average is 81.7\n"
     ]
    }
   ],
   "source": [
    "print (f'Class average is {average}')"
   ]
  },
  {
   "cell_type": "markdown",
   "id": "eba0f20f-af0b-4fce-9f41-086d1ff1ac18",
   "metadata": {},
   "source": [
    "3.10 Self Check"
   ]
  },
  {
   "cell_type": "code",
   "execution_count": 33,
   "id": "f5409d72-ee19-4e7c-b819-50ba0a62827b",
   "metadata": {},
   "outputs": [],
   "source": [
    "number1 = 7"
   ]
  },
  {
   "cell_type": "code",
   "execution_count": 34,
   "id": "5c829c54-ecab-492c-8173-d54689a0ec79",
   "metadata": {},
   "outputs": [],
   "source": [
    "number2 = 5"
   ]
  },
  {
   "cell_type": "code",
   "execution_count": 35,
   "id": "d5edb170-ad52-4f5b-baa5-bc2ca0a28eef",
   "metadata": {},
   "outputs": [
    {
     "name": "stdout",
     "output_type": "stream",
     "text": [
      "7 times 5 equals 35\n"
     ]
    }
   ],
   "source": [
    "print (f'{number1} times {number2} equals {number1*number2}')"
   ]
  },
  {
   "cell_type": "markdown",
   "id": "42676a9f-89dc-4517-89fd-7d628983ec80",
   "metadata": {},
   "source": [
    "3.13 Exploring Range Options"
   ]
  },
  {
   "cell_type": "markdown",
   "id": "5956380a-273b-465e-9821-092949ef2219",
   "metadata": {},
   "source": [
    "# Print every 3rd number"
   ]
  },
  {
   "cell_type": "code",
   "execution_count": 36,
   "id": "c0caf4bf-0f25-4a86-aa0e-031a8b1afb16",
   "metadata": {},
   "outputs": [
    {
     "name": "stdout",
     "output_type": "stream",
     "text": [
      "0 3 6 9 12 15 18 21 24 27 30 "
     ]
    }
   ],
   "source": [
    "for number in range (0,33,3):\n",
    "    print(number, end=' ')"
   ]
  },
  {
   "cell_type": "markdown",
   "id": "36c64bb0-57ef-4369-9698-b71e9069d333",
   "metadata": {},
   "source": [
    "# Print 1-20"
   ]
  },
  {
   "cell_type": "code",
   "execution_count": 37,
   "id": "83e56c3e-72e2-4d20-9c18-2a735d889f65",
   "metadata": {},
   "outputs": [
    {
     "name": "stdout",
     "output_type": "stream",
     "text": [
      "1 2 3 4 5 6 7 8 9 10 11 12 13 14 15 16 17 18 19 20 "
     ]
    }
   ],
   "source": [
    "for number in range (1,21):\n",
    "    print(number, end=' ')"
   ]
  },
  {
   "cell_type": "markdown",
   "id": "dac37dbb-8f04-4738-9eaa-8e54bf554f8d",
   "metadata": {},
   "source": [
    "# Count Down from 100 by 10's"
   ]
  },
  {
   "cell_type": "code",
   "execution_count": 38,
   "id": "fdd25b8e-69bd-4734-85e7-2a7871fd600b",
   "metadata": {},
   "outputs": [
    {
     "name": "stdout",
     "output_type": "stream",
     "text": [
      "100 90 80 70 60 50 40 30 20 10 0 "
     ]
    }
   ],
   "source": [
    "for number in range (100,-1,-10):\n",
    "    print(number, end=' ')"
   ]
  },
  {
   "cell_type": "markdown",
   "id": "a33a5f8b-8856-46db-ba07-61cf244b4a85",
   "metadata": {},
   "source": [
    "3.15"
   ]
  },
  {
   "cell_type": "markdown",
   "id": "ed00872f-efbc-433e-809a-6576fbb7b514",
   "metadata": {},
   "source": [
    "Print 1-5 and then 6-10"
   ]
  },
  {
   "cell_type": "code",
   "execution_count": 39,
   "id": "c24484cf-721a-4aca-a364-4f49b3441f8e",
   "metadata": {},
   "outputs": [
    {
     "name": "stdout",
     "output_type": "stream",
     "text": [
      "1 2 3 4 5 "
     ]
    }
   ],
   "source": [
    "for number in range (1,20):\n",
    "    if number == 6:\n",
    "        break\n",
    "    print (number, end=' ')"
   ]
  },
  {
   "cell_type": "code",
   "execution_count": 40,
   "id": "58e134b1-3e24-497a-be8c-286681e5812b",
   "metadata": {},
   "outputs": [
    {
     "name": "stdout",
     "output_type": "stream",
     "text": [
      "6 7 8 9 10 "
     ]
    }
   ],
   "source": [
    "for number in range (6,20):\n",
    "    if number == 11:\n",
    "        break\n",
    "    print (number, end=' ')"
   ]
  },
  {
   "cell_type": "markdown",
   "id": "48c36182-688b-4e01-a9da-a76510109916",
   "metadata": {},
   "source": [
    "3.16 Self Check"
   ]
  },
  {
   "cell_type": "code",
   "execution_count": 41,
   "id": "bac3b27e-f8bd-4a5f-9833-3aebae4676e3",
   "metadata": {},
   "outputs": [],
   "source": [
    "i=1"
   ]
  },
  {
   "cell_type": "code",
   "execution_count": 42,
   "id": "41780a7d-82a0-45f2-8e1d-78cec7173298",
   "metadata": {},
   "outputs": [],
   "source": [
    "j=2"
   ]
  },
  {
   "cell_type": "code",
   "execution_count": 43,
   "id": "6f4e4b9b-c629-4cda-a6dd-2098c2a8f4a3",
   "metadata": {},
   "outputs": [],
   "source": [
    "k=3"
   ]
  },
  {
   "cell_type": "code",
   "execution_count": 44,
   "id": "bf779890-d1ed-4632-8caf-398e0b03f734",
   "metadata": {},
   "outputs": [],
   "source": [
    "m=2"
   ]
  },
  {
   "cell_type": "code",
   "execution_count": 45,
   "id": "06e3b8f7-e517-4c74-b9cd-d9dfdd20443b",
   "metadata": {},
   "outputs": [
    {
     "data": {
      "text/plain": [
       "True"
      ]
     },
     "execution_count": 45,
     "metadata": {},
     "output_type": "execute_result"
    }
   ],
   "source": [
    "(i>=1) and (j<4)"
   ]
  },
  {
   "cell_type": "code",
   "execution_count": 46,
   "id": "f58b1079-8719-49a8-836b-6c4a97f04d4e",
   "metadata": {},
   "outputs": [
    {
     "data": {
      "text/plain": [
       "False"
      ]
     },
     "execution_count": 46,
     "metadata": {},
     "output_type": "execute_result"
    }
   ],
   "source": [
    "(m<=99) and (k<m)"
   ]
  },
  {
   "cell_type": "code",
   "execution_count": 47,
   "id": "25f0e519-9419-4489-8a81-90f18d3a2549",
   "metadata": {},
   "outputs": [
    {
     "data": {
      "text/plain": [
       "True"
      ]
     },
     "execution_count": 47,
     "metadata": {},
     "output_type": "execute_result"
    }
   ],
   "source": [
    "(j>= i) or (k == m)"
   ]
  },
  {
   "cell_type": "code",
   "execution_count": 48,
   "id": "1e32b069-26d4-42f3-b4c5-d74f7fa31cc3",
   "metadata": {},
   "outputs": [
    {
     "data": {
      "text/plain": [
       "False"
      ]
     },
     "execution_count": 48,
     "metadata": {},
     "output_type": "execute_result"
    }
   ],
   "source": [
    "(k + m <j) or (3-j>=k)"
   ]
  },
  {
   "cell_type": "code",
   "execution_count": 49,
   "id": "121f16c4-7c1e-424e-b29d-e1507ef56445",
   "metadata": {},
   "outputs": [
    {
     "data": {
      "text/plain": [
       "False"
      ]
     },
     "execution_count": 49,
     "metadata": {},
     "output_type": "execute_result"
    }
   ],
   "source": [
    "not (k>m)"
   ]
  },
  {
   "cell_type": "markdown",
   "id": "12d46ec9-f9df-4f1d-bb6f-489287ae7e95",
   "metadata": {},
   "source": [
    "Count using len()"
   ]
  },
  {
   "cell_type": "code",
   "execution_count": 50,
   "id": "69836230-1a3f-4d1c-9db8-19e0a0331345",
   "metadata": {},
   "outputs": [],
   "source": [
    "my_list = [47,95,88,73,88,84]"
   ]
  },
  {
   "cell_type": "code",
   "execution_count": 51,
   "id": "8cdf1032-29bb-4fd1-b91d-de0a8dfdb65a",
   "metadata": {},
   "outputs": [
    {
     "name": "stdout",
     "output_type": "stream",
     "text": [
      "The count of numbers in this list is 6\n"
     ]
    }
   ],
   "source": [
    "print (\"The count of numbers in this list is\", len(my_list))"
   ]
  },
  {
   "cell_type": "markdown",
   "id": "10f86a64-4805-4ab6-84ca-89542b6bd97b",
   "metadata": {},
   "source": [
    "Sum using sum()"
   ]
  },
  {
   "cell_type": "code",
   "execution_count": 52,
   "id": "c4f1c1de-07ff-4877-9cc7-eb9839e245e5",
   "metadata": {},
   "outputs": [
    {
     "name": "stdout",
     "output_type": "stream",
     "text": [
      "The sum of number in this list equals 475\n"
     ]
    }
   ],
   "source": [
    "print (\"The sum of number in this list equals\", sum(my_list))"
   ]
  },
  {
   "cell_type": "markdown",
   "id": "1158926f-5c83-4d97-bc96-70cfa1667837",
   "metadata": {},
   "source": [
    "Mean by dividing sum()/len()"
   ]
  },
  {
   "cell_type": "code",
   "execution_count": 53,
   "id": "e41c52db-7c81-42bb-a999-6eaef5f20648",
   "metadata": {},
   "outputs": [
    {
     "name": "stdout",
     "output_type": "stream",
     "text": [
      "The average of this list of numbers equals 79.16666666666667\n"
     ]
    }
   ],
   "source": [
    "print (\"The average of this list of numbers equals\", sum(my_list)/len(my_list))"
   ]
  },
  {
   "cell_type": "markdown",
   "id": "24dadad2-df82-4f37-8f11-dd751847d7b3",
   "metadata": {},
   "source": [
    "Calculate Measures of Central Tendency"
   ]
  },
  {
   "cell_type": "code",
   "execution_count": 54,
   "id": "b331d163-906c-47aa-ae2a-98cb8e930531",
   "metadata": {},
   "outputs": [],
   "source": [
    "import statistics"
   ]
  },
  {
   "cell_type": "code",
   "execution_count": 55,
   "id": "8352b4c9-b7da-4c63-9cee-0e50064bebc5",
   "metadata": {},
   "outputs": [],
   "source": [
    "values = [47,95,88,73,88,84]"
   ]
  },
  {
   "cell_type": "code",
   "execution_count": 56,
   "id": "b7323134-b66a-4892-b0f1-93ea5f348665",
   "metadata": {},
   "outputs": [
    {
     "data": {
      "text/plain": [
       "79.16666666666667"
      ]
     },
     "execution_count": 56,
     "metadata": {},
     "output_type": "execute_result"
    }
   ],
   "source": [
    "statistics.mean(values)"
   ]
  },
  {
   "cell_type": "code",
   "execution_count": 57,
   "id": "8831adf0-2e48-4ea3-8aa8-99e38f4ec390",
   "metadata": {},
   "outputs": [
    {
     "data": {
      "text/plain": [
       "86.0"
      ]
     },
     "execution_count": 57,
     "metadata": {},
     "output_type": "execute_result"
    }
   ],
   "source": [
    "statistics.median(values)"
   ]
  },
  {
   "cell_type": "code",
   "execution_count": 58,
   "id": "134a88e1-c137-4e9d-97d2-e7fbdb09b207",
   "metadata": {},
   "outputs": [
    {
     "data": {
      "text/plain": [
       "88"
      ]
     },
     "execution_count": 58,
     "metadata": {},
     "output_type": "execute_result"
    }
   ],
   "source": [
    "statistics.mode(values)"
   ]
  },
  {
   "cell_type": "markdown",
   "id": "801607f6-8539-40f4-9d92-d7f3ac19ddd2",
   "metadata": {},
   "source": [
    "Custom Central Tendency"
   ]
  },
  {
   "cell_type": "code",
   "execution_count": 59,
   "id": "8d0b3b58-b8f3-46c9-91bf-53e128fffb7d",
   "metadata": {},
   "outputs": [],
   "source": [
    "new_list = [10,20,30,30,40,80,90]"
   ]
  },
  {
   "cell_type": "code",
   "execution_count": 60,
   "id": "5e70a6b5-ea8c-4572-a117-e3cff89d8b55",
   "metadata": {},
   "outputs": [
    {
     "name": "stdout",
     "output_type": "stream",
     "text": [
      "The count of numbers in this list is 7\n"
     ]
    }
   ],
   "source": [
    "print (\"The count of numbers in this list is\", len(new_list))"
   ]
  },
  {
   "cell_type": "code",
   "execution_count": 61,
   "id": "6edb390a-f733-4fe8-9938-bae1324ff622",
   "metadata": {},
   "outputs": [
    {
     "name": "stdout",
     "output_type": "stream",
     "text": [
      "The sum of numbers in this list equals 300\n"
     ]
    }
   ],
   "source": [
    "print (\"The sum of numbers in this list equals\", sum(new_list))"
   ]
  },
  {
   "cell_type": "code",
   "execution_count": 62,
   "id": "607cc06e-3275-4329-94af-f6463e258f5d",
   "metadata": {},
   "outputs": [],
   "source": [
    "import statistics"
   ]
  },
  {
   "cell_type": "code",
   "execution_count": 63,
   "id": "0f102f6e-ba95-42a6-bbc7-14a64ea66b70",
   "metadata": {},
   "outputs": [
    {
     "data": {
      "text/plain": [
       "42.857142857142854"
      ]
     },
     "execution_count": 63,
     "metadata": {},
     "output_type": "execute_result"
    }
   ],
   "source": [
    "statistics.mean(new_list)"
   ]
  },
  {
   "cell_type": "code",
   "execution_count": 64,
   "id": "15d67660-f791-4e42-8abc-6576375a6045",
   "metadata": {},
   "outputs": [
    {
     "data": {
      "text/plain": [
       "30"
      ]
     },
     "execution_count": 64,
     "metadata": {},
     "output_type": "execute_result"
    }
   ],
   "source": [
    "statistics.median(new_list)"
   ]
  },
  {
   "cell_type": "code",
   "execution_count": 65,
   "id": "acddbf58-9c8b-47af-8849-90e979385b66",
   "metadata": {},
   "outputs": [
    {
     "data": {
      "text/plain": [
       "30"
      ]
     },
     "execution_count": 65,
     "metadata": {},
     "output_type": "execute_result"
    }
   ],
   "source": [
    "statistics.mode(new_list)"
   ]
  },
  {
   "cell_type": "markdown",
   "id": "0a79aa5e-1a51-4373-9048-d4ed5f8b3365",
   "metadata": {},
   "source": [
    "Renee Hawkins"
   ]
  },
  {
   "cell_type": "code",
   "execution_count": null,
   "id": "b7717b40-ba91-4882-973f-de9e0353ec52",
   "metadata": {},
   "outputs": [],
   "source": []
  }
 ],
 "metadata": {
  "kernelspec": {
   "display_name": "Python 3 (ipykernel)",
   "language": "python",
   "name": "python3"
  },
  "language_info": {
   "codemirror_mode": {
    "name": "ipython",
    "version": 3
   },
   "file_extension": ".py",
   "mimetype": "text/x-python",
   "name": "python",
   "nbconvert_exporter": "python",
   "pygments_lexer": "ipython3",
   "version": "3.9.7"
  }
 },
 "nbformat": 4,
 "nbformat_minor": 5
}
